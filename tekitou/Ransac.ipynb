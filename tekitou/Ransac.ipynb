{
 "cells": [
  {
   "cell_type": "code",
   "execution_count": 9,
   "metadata": {},
   "outputs": [],
   "source": [
    "import numpy as np\n",
    "import matplotlib.pyplot as plt\n",
    "from matplotlib.animation import ArtistAnimation"
   ]
  },
  {
   "cell_type": "code",
   "execution_count": 10,
   "metadata": {},
   "outputs": [],
   "source": [
    "a = 1.3\n",
    "b = 0.4\n",
    "dataNum = 1000\n",
    "parsentage = 0.3\n",
    "#比例データ y = ax [average x = 0]\n",
    "dataX = np.random.normal(0.5,0.3,size=dataNum)\n",
    "dataY = (a*dataX+np.random.normal(0,0.04,size=dataNum)+b)\n",
    "for i in range(int(dataNum*parsentage)):\n",
    "    dataY[np.random.choice(np.arange(0,dataY.shape[0]))] += np.random.normal(0,0.3)\n",
    "    #dataX[np.random.choice(np.arange(0,dataX.shape[0]))] += np.random.normal(0,0.3)"
   ]
  },
  {
   "cell_type": "code",
   "execution_count": 11,
   "metadata": {},
   "outputs": [
    {
     "data": {
      "image/png": "[encoded data removed]",
      "text/plain": [
       "<Figure size 432x288 with 1 Axes>"
      ]
     },
     "metadata": {
      "needs_background": "light"
     },
     "output_type": "display_data"
    }
   ],
   "source": [
    "fig,ax = plt.subplots()\n",
    "ax.plot(dataX,dataY,lw = 0,marker='^',markersize = 2)\n",
    "Data = np.array([dataX,dataY]).T # [[x_0,y_0],[x_1,y_1],[x_2,y_2],[x_3,y_3]...]"
   ]
  },
  {
   "cell_type": "code",
   "execution_count": 12,
   "metadata": {},
   "outputs": [
    {
     "name": "stdout",
     "output_type": "stream",
     "text": [
      "1.3 0.4\n",
      "1.3163267031893209 0.3997775737249598\n",
      "1.303959468595893 0.3950265456872951\n"
     ]
    }
   ],
   "source": [
    "fig,ax = plt.subplots(figsize=[10,10])\n",
    "\n",
    "Artist = []\n",
    "\n",
    "def Ransac(Data,sampleNum,threshold):\n",
    "    global ax,Artist\n",
    "    resalt = [0,0,1e90,None]\n",
    "    for i in range(100):\n",
    "        title = ax.text(0,0,\"step : {}\".format(i))\n",
    "        DataCopy = Data.copy()\n",
    "        SampleData = []\n",
    "        for i in range(sampleNum):\n",
    "            index = np.random.randint(DataCopy.shape[0])\n",
    "            SampleData.append(DataCopy[index])\n",
    "            DataCopy = np.delete(DataCopy,index,0)\n",
    "        SampleData = np.array(SampleData)\n",
    "\n",
    "        sampleAverage = [np.average(SampleData[:,0]),np.average(SampleData[:,1])]\n",
    "        ExpA = np.sum((SampleData[:,0]-sampleAverage[0])*(SampleData[:,1]-sampleAverage[1]))/((SampleData[:,0]-sampleAverage[0])@(SampleData[:,0]-sampleAverage[0]))\n",
    "        ExpB = sampleAverage[1] - ExpA*sampleAverage[0]\n",
    "\n",
    "        a0 = ax.plot(SampleData[:,0],SampleData[:,1],lw=0,marker='o',markersize=5,c='r')\n",
    "        a1 = ax.plot(np.array([0,1]),np.array([0,1])*ExpA+ExpB,c='b')\n",
    "\n",
    "        Artist.append(a0+a1+[title])\n",
    "\n",
    "        ExpTrueData = DataCopy[abs(DataCopy[:,0]*ExpA+ExpB - DataCopy[:,1]) < threshold]\n",
    "        Score = np.sqrt((ExpTrueData[:,0]*ExpA+ExpB - ExpTrueData[:,1])@(ExpTrueData[:,0]*ExpA+ExpB - ExpTrueData[:,1]))/ExpTrueData.shape[0]\n",
    "        b0 = ax.plot(DataCopy[:,0],DataCopy[:,1],lw=0,marker='o',markersize=5,c='b')\n",
    "        b1 = ax.plot(ExpTrueData[:,0],ExpTrueData[:,1],lw=0,marker='o',markersize=5,c='r')\n",
    "        b2 = ax.plot(np.array([0,1]),np.array([0,1])*ExpA+ExpB,c='b')\n",
    "        Artist.append(b0+b1+b2+[title])\n",
    "        if (Score < resalt[2]):# and (ExpTrueData.shape[0] > 0.1*Data.shape[0]):\n",
    "            resalt = [ExpA,ExpB,Score,(b0+b1+b2+[title]).copy()]\n",
    "    Artist.append(resalt[3])\n",
    "    print(*resalt[:2])\n",
    "    return\n",
    "\n",
    "print(a,b)\n",
    "\n",
    "Ransac(Data,5,0.1)\n",
    "\n",
    "#最小二乗法\n",
    "Average = [np.average(Data[:,0]),np.average(Data[:,1])]\n",
    "ExpA = np.sum((Data[:,0]-Average[0])*(Data[:,1]-Average[1]))/((Data[:,0]-Average[0])@(Data[:,0]-Average[0]))\n",
    "ExpB = Average[1] - ExpA*Average[0]\n",
    "\n",
    "print(ExpA,ExpB)\n",
    "\n",
    "anim = ArtistAnimation(fig,Artist, interval=10)\n",
    "\n",
    "anim.save(\"./sampleRANSAC.mp4\")\n",
    "plt.close()"
   ]
  }
 ],
 "metadata": {
  "kernelspec": {
   "display_name": "Python 3",
   "language": "python",
   "name": "python3"
  },
  "language_info": {
   "codemirror_mode": {
    "name": "ipython",
    "version": 3
   },
   "file_extension": ".py",
   "mimetype": "text/x-python",
   "name": "python",
   "nbconvert_exporter": "python",
   "pygments_lexer": "ipython3",
   "version": "3.10.12"
  }
 },
 "nbformat": 4,
 "nbformat_minor": 2
}
